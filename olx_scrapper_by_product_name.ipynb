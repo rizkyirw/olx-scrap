{
 "cells": [
  {
   "cell_type": "code",
   "execution_count": 1,
   "id": "fa33bb2f-72fb-4f1b-841b-9572db9da4e8",
   "metadata": {
    "tags": []
   },
   "outputs": [],
   "source": [
    "# Import library\n",
    "from selenium import webdriver\n",
    "from bs4 import BeautifulSoup"
   ]
  },
  {
   "cell_type": "code",
   "execution_count": 4,
   "id": "b6ebb2e5-4bac-44cd-8089-eaad129c7228",
   "metadata": {
    "tags": []
   },
   "outputs": [],
   "source": [
    "from selenium.webdriver.common.by import By\n",
    "from selenium.common.exceptions import NoSuchElementException\n",
    "import time\n",
    "import datetime\n",
    "import requests\n",
    "import pandas as pd"
   ]
  },
  {
   "cell_type": "code",
   "execution_count": 6,
   "id": "e09fe991-a7b5-49a4-a1bc-8b28d9391bc4",
   "metadata": {
    "tags": []
   },
   "outputs": [
    {
     "name": "stdin",
     "output_type": "stream",
     "text": [
      "Masukkan kata kunci pencarian:  innova\n"
     ]
    },
    {
     "name": "stdout",
     "output_type": "stream",
     "text": [
      "             Product Name           Price       Tahun & Jarak Tempuh  \\\n",
      "0    Toyota Kijang Innova  Rp 345.000.000    2021 - 35.000-40.000 km   \n",
      "1    Toyota Kijang Innova  Rp 280.000.000  2018 - 105.000-110.000 km   \n",
      "2    Toyota Kijang Innova  Rp 298.000.000    2018 - 90.000-95.000 km   \n",
      "3    Toyota Kijang Innova  Rp 274.000.000  2018 - 110.000-115.000 km   \n",
      "4    Toyota Kijang Innova  Rp 355.000.000    2018 - 90.000-95.000 km   \n",
      "..                    ...             ...                        ...   \n",
      "227  Toyota Kijang Innova  Rp 275.000.000    2017 - 90.000-95.000 km   \n",
      "228  Toyota Kijang Innova  Rp 252.000.000  2016 - 130.000-135.000 km   \n",
      "229  Toyota Kijang Innova  Rp 211.000.000  2016 - 115.000-120.000 km   \n",
      "230  Toyota Kijang Innova  Rp 291.000.000    2018 - 55.000-60.000 km   \n",
      "231  Toyota Kijang Innova  Rp 180.000.000    2013 - 75.000-80.000 km   \n",
      "\n",
      "               Lokasi  \n",
      "0        Pasar Minggu  \n",
      "1    Mampang Prapatan  \n",
      "2        Pasar Minggu  \n",
      "3            Cilandak  \n",
      "4      Kebayoran Lama  \n",
      "..                ...  \n",
      "227      Pasar Minggu  \n",
      "228          Cilandak  \n",
      "229          Cilandak  \n",
      "230          Pancoran  \n",
      "231    Kebayoran Lama  \n",
      "\n",
      "[232 rows x 4 columns]\n",
      "Data saved in Result/OLX_Mobil_Bekas_2024-03-25_10-40-39.xlsx\n"
     ]
    }
   ],
   "source": [
    "# Konfigurasi Webdriver\n",
    "options = webdriver.ChromeOptions()\n",
    "options.add_argument(\"start-maximized\")\n",
    "\n",
    "# User agent\n",
    "user_agent = 'Mozilla/5.0 (Windows NT 10.0; Win64; x64) AppleWebKit/537.36 (KHTML, like Gecko) Chrome/96.0.4664.110 Safari/537.36'\n",
    "options.add_argument(f\"user-agent={user_agent}\")\n",
    "\n",
    "# Meminta pengguna untuk memasukkan kata kunci pencarian\n",
    "keyword = input(\"Masukkan kata kunci pencarian: \")\n",
    "\n",
    "# Mendapatkan URL per keyword\n",
    "url = f'https://www.olx.co.id/mobil-bekas_c198/q-{keyword}'\n",
    "driver = webdriver.Chrome(options=options)\n",
    "driver.get(url)\n",
    "\n",
    "# Mendapatkan range page, range dapat diganti sesuai kebutuhan pada (..)\n",
    "for i in range(5):\n",
    "    time.sleep(5)\n",
    "    try:\n",
    "        driver.find_element(By.CSS_SELECTOR, 'div._38O09 > button').click()\n",
    "        time.sleep(5)\n",
    "    except NoSuchElementException:\n",
    "        break\n",
    "    time.sleep(5)\n",
    "\n",
    "# Membuat list kosong untuk menampung hasil scrap\n",
    "list_mobil = []\n",
    "soup  = BeautifulSoup(driver.page_source, \"html.parser\")\n",
    "\n",
    "# Ekstrak setiap element yang dibutuhkan\n",
    "for item in soup.findAll('li', class_='_3V_Ww'):\n",
    "    product_name = item.find('div', class_='_2Gr10').text\n",
    "    price = item.find('span', class_='_1zgtX').text\n",
    "    km = item.find('div', class_='_21gnE').text\n",
    "    loc_div = item.find('div', class_='_3VRSm') \n",
    "    loc_text = loc_div.contents[0] \n",
    "    list_mobil.append(\n",
    "        (product_name, price, km, loc_text)\n",
    "    )\n",
    "\n",
    "# Membuat dataframe dari data yang telah didapatkan\n",
    "df = pd.DataFrame(list_mobil, columns=['Product Name', 'Price', 'Tahun & Jarak Tempuh', 'Lokasi'])\n",
    "print(df)\n",
    "\n",
    "# Folder hasil scrap\n",
    "folder_path = 'Result/'\n",
    "\n",
    "# Mendapatkan datetime saat program berjalan\n",
    "now = datetime.datetime.now()\n",
    "\n",
    "# Format nama file berdasarkan waktu program dijalankan\n",
    "file_name = f'OLX_Mobil_Bekas_{now.strftime(\"%Y-%m-%d_%H-%M-%S\")}.xlsx'\n",
    "file_path = folder_path + file_name\n",
    "\n",
    "# Simpan hasil scrap ke dalam folder Result dengan nama file yang sudah disesuaikan\n",
    "df.to_excel(file_path, index=False)\n",
    "print(f'Data saved in {file_path}')\n",
    "\n",
    "driver.close()"
   ]
  }
 ],
 "metadata": {
  "kernelspec": {
   "display_name": "Python 3 (ipykernel)",
   "language": "python",
   "name": "python3"
  },
  "language_info": {
   "codemirror_mode": {
    "name": "ipython",
    "version": 3
   },
   "file_extension": ".py",
   "mimetype": "text/x-python",
   "name": "python",
   "nbconvert_exporter": "python",
   "pygments_lexer": "ipython3",
   "version": "3.10.12"
  }
 },
 "nbformat": 4,
 "nbformat_minor": 5
}
